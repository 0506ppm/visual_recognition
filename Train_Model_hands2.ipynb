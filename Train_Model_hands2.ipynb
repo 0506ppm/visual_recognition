{
 "cells": [
  {
   "cell_type": "code",
   "execution_count": 2,
   "metadata": {},
   "outputs": [],
   "source": [
    "import os\n",
    "import numpy as np\n",
    "import time\n",
    "from sklearn.model_selection import train_test_split\n",
    "from tensorflow.keras.utils import to_categorical"
   ]
  },
  {
   "attachments": {},
   "cell_type": "markdown",
   "metadata": {},
   "source": [
    "## Load Data"
   ]
  },
  {
   "cell_type": "code",
   "execution_count": 3,
   "metadata": {},
   "outputs": [
    {
     "name": "stdout",
     "output_type": "stream",
     "text": [
      "{'0': 0, '1': 1, '2': 2, '3': 3, '4': 4, '5': 5, '6': 6, '7': 7, '8': 8, '9': 9, 'check': 10, 'finish': 11, 'give_you': 12, 'good': 13, 'i': 14, 'id_card': 15, 'is': 16, 'money': 17, 'saving_book': 18, 'sign': 19, 'taiwan': 20, 'take': 21, 'ten_thousand': 22, 'yes': 23}\n",
      "24\n"
     ]
    }
   ],
   "source": [
    "# 2. 模組需要的字詞 Labels\n",
    "actions = np.array(['0', '1', '2', '3', '4', '5', '6', '7', '8', '9', 'check', 'finish', 'give_you',\n",
    "                   'good', 'i', 'id_card', 'is', 'money', 'saving_book', 'sign', 'taiwan', 'take', 'ten_thousand', 'yes'])\n",
    "\n",
    "\n",
    "label_map = {label:num for num, label in enumerate(actions)}\n",
    "print(label_map)\n",
    "print(actions.shape[0])"
   ]
  },
  {
   "attachments": {},
   "cell_type": "markdown",
   "metadata": {},
   "source": [
    "## Load Data - model 2"
   ]
  },
  {
   "cell_type": "code",
   "execution_count": 5,
   "metadata": {},
   "outputs": [],
   "source": [
    "def get_dataset(data_path_trans):\n",
    "    input_texts = []\n",
    "    target_texts = []\n",
    "\n",
    "    input_characters = set()\n",
    "    target_characters = set()\n",
    "    with open(data_path_trans, 'r', encoding='utf-8') as f:\n",
    "        lines = f.read().split('\\n')\n",
    "    for line in lines:\n",
    "        input_text, target_text= line.split('   ')\n",
    "        # 用tab作用序列的开始，用\\n作为序列的结束\n",
    "        target_text = '\\t' + target_text + '\\n'\n",
    "\n",
    "        input_texts.append(input_text)\n",
    "        target_texts.append(target_text)\n",
    "        \n",
    "        for char in input_text:\n",
    "            if char not in input_characters:\n",
    "                input_characters.add(char)\n",
    "        for char in target_text:\n",
    "            if char not in target_characters:\n",
    "                target_characters.add(char)\n",
    "    return input_texts,target_texts,input_characters,target_characters\n",
    "\n",
    "\n",
    "#------------------------------------------#\n",
    "#   init初始化部分\n",
    "#------------------------------------------#\n",
    "\n",
    "# 获取数据集\n",
    "# input_texts為输入的英文手語序 target_texts為對應的中文口語序\n",
    "# input_characters用到的所有输入字符,如a,b,c,d,e,……,.,!等\n",
    "data_path_trans = 'EngToChinese_service1_1029.txt'\n",
    "input_texts,target_texts,input_characters,target_characters = get_dataset(data_path_trans)\n",
    "\n",
    "# 对字符进行排序\n",
    "input_characters = sorted(list(input_characters))\n",
    "target_characters = sorted(list(target_characters))\n",
    "\n",
    "# 计算共用到了什么字符\n",
    "num_encoder_tokens = len(input_characters)\n",
    "num_decoder_tokens = len(target_characters)\n",
    "# 计算出最长的序列是多长\n",
    "max_encoder_seq_length = max([len(txt) for txt in input_texts])\n",
    "max_decoder_seq_length = max([len(txt) for txt in target_texts])\n",
    "\n",
    "# 建立字母到数字的映射\n",
    "input_token_index = dict(\n",
    "    [(char, i) for i, char in enumerate(input_characters)])\n",
    "target_token_index = dict(\n",
    "    [(char, i) for i, char in enumerate(target_characters)])\n",
    "# 求數字到字母的映射\n",
    "reverse_target_char_index = dict(\n",
    "    (i, char) for char, i in target_token_index.items())"
   ]
  },
  {
   "attachments": {},
   "cell_type": "markdown",
   "metadata": {},
   "source": [
    "# Load Model"
   ]
  },
  {
   "cell_type": "code",
   "execution_count": 6,
   "metadata": {},
   "outputs": [],
   "source": [
    "from tensorflow.keras.models import load_model"
   ]
  },
  {
   "cell_type": "code",
   "execution_count": 9,
   "metadata": {
    "scrolled": true
   },
   "outputs": [
    {
     "name": "stdout",
     "output_type": "stream",
     "text": [
      "Model: \"sequential\"\n",
      "_________________________________________________________________\n",
      " Layer (type)                Output Shape              Param #   \n",
      "=================================================================\n",
      " gru (GRU)                   (None, 64)                36864     \n",
      "                                                                 \n",
      " dense (Dense)               (None, 64)                4160      \n",
      "                                                                 \n",
      " dense_1 (Dense)             (None, 24)                1560      \n",
      "                                                                 \n",
      "=================================================================\n",
      "Total params: 42,584\n",
      "Trainable params: 42,584\n",
      "Non-trainable params: 0\n",
      "_________________________________________________________________\n"
     ]
    }
   ],
   "source": [
    "new_model = load_model('Model/model1_service1_0924.keras')\n",
    "new_model_order = load_model(\"Model/model2_service1_1029.h5\")\n",
    "new_model.summary()"
   ]
  },
  {
   "attachments": {},
   "cell_type": "markdown",
   "metadata": {},
   "source": [
    "# Realtime Test"
   ]
  },
  {
   "cell_type": "code",
   "execution_count": 10,
   "metadata": {},
   "outputs": [],
   "source": [
    "import cv2\n",
    "import mediapipe as mp\n",
    "from collections import Counter"
   ]
  },
  {
   "cell_type": "code",
   "execution_count": 11,
   "metadata": {},
   "outputs": [],
   "source": [
    "mp_holistic = mp.solutions.holistic # Holistic model\n",
    "mp_drawing = mp.solutions.drawing_utils # Drawing utilities"
   ]
  },
  {
   "cell_type": "code",
   "execution_count": 12,
   "metadata": {},
   "outputs": [],
   "source": [
    "colors = [(245,117,16)] * 24\n",
    "def prob_viz(res, actions, input_frame, colors):\n",
    "    output_frame = input_frame.copy()\n",
    "    for num, prob in enumerate(res):\n",
    "        # cv2.rectangle(影像, 頂點座標, 對向頂點座標, 顏色, 線條寬度)\n",
    "        cv2.rectangle(output_frame, (0,60+num*17), (int(prob*100), 90+num*17), colors[num], -1)\n",
    "        cv2.putText(output_frame, actions[num], (0, 85+num*17), cv2.FONT_HERSHEY_SIMPLEX, 1, (255,255,255), 2, cv2.LINE_AA)\n",
    "    return output_frame"
   ]
  },
  {
   "cell_type": "code",
   "execution_count": 13,
   "metadata": {},
   "outputs": [],
   "source": [
    "def mediapipe_detection(image, model):\n",
    "    # Transfer image\n",
    "    image = cv2.cvtColor(image, cv2.COLOR_BGR2RGB)\n",
    "    image.flags.writeable = False\n",
    "    # Make prediction\n",
    "    results = model.process(image)\n",
    "    return results"
   ]
  },
  {
   "cell_type": "code",
   "execution_count": 14,
   "metadata": {},
   "outputs": [],
   "source": [
    "def draw_styled_landmarks(image, results):\n",
    "    # Draw pose connections\n",
    "    mp_drawing.draw_landmarks(\n",
    "        image, results.pose_landmarks, mp_holistic.POSE_CONNECTIONS,\n",
    "        mp_drawing.DrawingSpec(color=(80,22,10), thickness=2, circle_radius=4), \n",
    "        mp_drawing.DrawingSpec(color=(80,44,121), thickness=2, circle_radius=2)\n",
    "    )\n",
    "    # Draw left hand connections\n",
    "    mp_drawing.draw_landmarks(\n",
    "        image, results.left_hand_landmarks, mp_holistic.HAND_CONNECTIONS, \n",
    "        mp_drawing.DrawingSpec(color=(121,22,76), thickness=2, circle_radius=4), \n",
    "        mp_drawing.DrawingSpec(color=(121,44,250), thickness=2, circle_radius=2)\n",
    "    ) \n",
    "    # Draw right hand connections  \n",
    "    mp_drawing.draw_landmarks(\n",
    "        image, results.right_hand_landmarks, mp_holistic.HAND_CONNECTIONS, \n",
    "        mp_drawing.DrawingSpec(color=(245,117,66), thickness=2, circle_radius=4), \n",
    "        mp_drawing.DrawingSpec(color=(245,66,230), thickness=2, circle_radius=2)\n",
    "    ) "
   ]
  },
  {
   "cell_type": "code",
   "execution_count": 15,
   "metadata": {},
   "outputs": [],
   "source": [
    "def extract_keypoints_without_face(results):\n",
    "    pose = np.array([[res.x, res.y, res.z, res.visibility] for res in results.pose_landmarks.landmark]).flatten() if results.pose_landmarks else np.zeros(33*4)\n",
    "    lh = np.array([[res.x, res.y, res.z] for res in results.left_hand_landmarks.landmark]).flatten() if results.left_hand_landmarks else np.zeros(21*3)\n",
    "    rh = np.array([[res.x, res.y, res.z] for res in results.right_hand_landmarks.landmark]).flatten() if results.right_hand_landmarks else np.zeros(21*3)\n",
    "    return np.concatenate([lh, rh]) "
   ]
  },
  {
   "cell_type": "code",
   "execution_count": 16,
   "metadata": {},
   "outputs": [],
   "source": [
    "def translate(model_opt):\n",
    "    in_encoder = np.zeros((1, max_encoder_seq_length, num_encoder_tokens),dtype='float32')\n",
    "\n",
    "    for t, char in enumerate(model_opt):\n",
    "        in_encoder[0, t, input_token_index[char]] = 1.\n",
    "    in_encoder[0, t + 1:, input_token_index[' ']] = 1.\n",
    "\n",
    "    in_decoder = np.zeros((len(in_encoder), max_decoder_seq_length, num_decoder_tokens),dtype='float32')\n",
    "    in_decoder[:, 0, target_token_index[\"\\t\"]] = 1\n",
    "\n",
    "    # 生成 decoder 的 output\n",
    "    for i in range(max_decoder_seq_length - 1):\n",
    "        predict = new_model_order.predict([in_encoder, in_decoder])\n",
    "        predict = predict.argmax(axis=-1)\n",
    "        predict_ = predict[:, i].ravel().tolist()\n",
    "        for j, x in enumerate(predict_):\n",
    "            in_decoder[j, i + 1, x] = 1 # 將每個預測出的 token 設為 decoder 下一個 timestamp 的輸入\n",
    "\n",
    "    seq_index = 0\n",
    "    decoded_sentence = \"\"\n",
    "    output_seq = predict[seq_index, :].ravel().tolist()\n",
    "    for x in output_seq:\n",
    "        if reverse_target_char_index[x] == \"\\n\":\n",
    "            break\n",
    "        else:\n",
    "            decoded_sentence+=reverse_target_char_index[x]\n",
    "\n",
    "    return decoded_sentence"
   ]
  },
  {
   "cell_type": "code",
   "execution_count": 17,
   "metadata": {},
   "outputs": [
    {
     "name": "stdout",
     "output_type": "stream",
     "text": [
      "1/1 [==============================] - 1s 1s/step\n",
      "1/1 [==============================] - 0s 61ms/step\n",
      "1/1 [==============================] - 0s 78ms/step\n"
     ]
    }
   ],
   "source": [
    "# 1. New detection variables\n",
    "sequence = []\n",
    "sentence = []\n",
    "predictions = []\n",
    "threshold = 0.7\n",
    "alarm_set = False\n",
    "trans_result =\"\"\n",
    "\n",
    "cap = cv2.VideoCapture(0)\n",
    "# Set mediapipe model \n",
    "with mp_holistic.Holistic(min_detection_confidence=0.5, min_tracking_confidence=0.5) as holistic:\n",
    "    while cap.isOpened():\n",
    "        ret, frame = cap.read()\n",
    "        if not ret:\n",
    "            break\n",
    "\n",
    "        # Make detections\n",
    "        results = mediapipe_detection(frame, holistic)\n",
    "        # Draw landmarks\n",
    "        draw_styled_landmarks(frame, results)\n",
    "        \n",
    "        # 2. Prediction logic\n",
    "        keypoints = extract_keypoints_without_face(results)\n",
    "        if np.count_nonzero(keypoints) > 30:\n",
    "            sequence.append(keypoints)\n",
    "            sequence = sequence[-30:]\n",
    "        \n",
    "        if len(sequence) == 30:\n",
    "            res = new_model.predict(np.expand_dims(sequence, axis=0))[0]\n",
    "            if res[np.argmax(res)] > threshold: \n",
    "                predictions.append(np.argmax(res))\n",
    "\n",
    "\n",
    "            \n",
    "            \n",
    "        #3. Viz logic\n",
    "            if Counter(predictions[-10:]).most_common(1)[0][0]==np.argmax(res):      \n",
    "                if len(sentence) > 0: \n",
    "                    if actions[np.argmax(res)] != sentence[-1]:\n",
    "                        sentence.append(actions[np.argmax(res)])\n",
    "                        sequence = []\n",
    "                        last_updated_time = time.time()\n",
    "                        alarm_set = True\n",
    "                else:\n",
    "                    sentence.append(actions[np.argmax(res)])\n",
    "                    sequence = []\n",
    "                    last_updated_time = time.time()\n",
    "                    alarm_set = True\n",
    "\n",
    "            if len(sentence) > 5: \n",
    "                sentence = sentence[-5:]\n",
    "\n",
    "            # Viz probabilities\n",
    "            frame = prob_viz(res, actions, frame, colors)\n",
    "\n",
    "        current_time = time.time()  \n",
    "        if alarm_set and current_time - last_updated_time >= 10:\n",
    "            # 時間過10秒，將 sentence 放入下一個模型進行預測\n",
    "            trans_result = translate(' '.join(sentence))\n",
    "            print('---result---', trans_result)\n",
    "            # 清空 sentence 資料\n",
    "            alarm_set = False\n",
    "            sequence = []\n",
    "            sentence = []\n",
    "            \n",
    "        cv2.rectangle(frame, (0,0), (640, 40), (245, 117, 16), -1)\n",
    "        cv2.putText(frame, ' '.join(sentence), (3,30), \n",
    "                       cv2.FONT_HERSHEY_SIMPLEX, 1, (255, 255, 255), 2, cv2.LINE_AA)\n",
    "        outputframe = cv2.flip(frame, 1)\n",
    "        # Show to screen\n",
    "        cv2.imshow('OpenCV Feed', outputframe)\n",
    "\n",
    "        # Break gracefully\n",
    "        if cv2.waitKey(10) & 0xFF == ord('x'):\n",
    "            break\n",
    "    cap.release()\n",
    "    cv2.destroyAllWindows()"
   ]
  }
 ],
 "metadata": {
  "kernelspec": {
   "display_name": "Python 3 (ipykernel)",
   "language": "python",
   "name": "python3"
  },
  "language_info": {
   "codemirror_mode": {
    "name": "ipython",
    "version": 3
   },
   "file_extension": ".py",
   "mimetype": "text/x-python",
   "name": "python",
   "nbconvert_exporter": "python",
   "pygments_lexer": "ipython3",
   "version": "3.10.10"
  }
 },
 "nbformat": 4,
 "nbformat_minor": 4
}
